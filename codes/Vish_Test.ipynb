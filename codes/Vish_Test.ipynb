{
 "cells": [
  {
   "cell_type": "code",
   "execution_count": 26,
   "metadata": {},
   "outputs": [],
   "source": [
    "import pandas as pd\n",
    "import numpy as np\n",
    "import matplotlib.pyplot as plt\n",
    "from sklearn.linear_model import LinearRegression\n",
    "\n",
    "%matplotlib inline"
   ]
  },
  {
   "cell_type": "code",
   "execution_count": 27,
   "metadata": {},
   "outputs": [],
   "source": [
    "\n",
    "fin_df = pd.read_csv(r\"C:\\Users\\vishg\\Documents\\MSDS\\STAT6021 - Linear Models for Data Science\\financial_independence\\data\\reddit_finance.csv\")"
   ]
  },
  {
   "cell_type": "code",
   "execution_count": 28,
   "metadata": {},
   "outputs": [
    {
     "name": "stdout",
     "output_type": "stream",
     "text": [
      "<class 'pandas.core.frame.DataFrame'>\n",
      "RangeIndex: 1998 entries, 0 to 1997\n",
      "Data columns (total 66 columns):\n",
      " #   Column                   Non-Null Count  Dtype  \n",
      "---  ------                   --------------  -----  \n",
      " 0   rownames                 1998 non-null   int64  \n",
      " 1   num_incomes              1997 non-null   object \n",
      " 2   pan_inc_chg              1989 non-null   object \n",
      " 3   pan_inc_chg_pct          1979 non-null   object \n",
      " 4   pan_exp_chg              1987 non-null   object \n",
      " 5   pan_exp_chg_pct          1967 non-null   object \n",
      " 6   pan_fi_chg               1972 non-null   object \n",
      " 7   pan_ret_date_chg         1975 non-null   object \n",
      " 8   pan_financial_impact     1988 non-null   object \n",
      " 9   political                1399 non-null   object \n",
      " 10  race_eth                 1950 non-null   object \n",
      " 11  gender                   1988 non-null   object \n",
      " 12  age                      1992 non-null   object \n",
      " 13  edu                      1992 non-null   object \n",
      " 14  rel_status               1990 non-null   object \n",
      " 15  children                 1936 non-null   object \n",
      " 16  country                  1998 non-null   object \n",
      " 17  fin_indy                 1998 non-null   object \n",
      " 18  fin_indy_num             1778 non-null   float64\n",
      " 19  fin_indy_pct             1772 non-null   float64\n",
      " 20  retire_invst_num         1712 non-null   float64\n",
      " 21  tgt_sf_wthdrw_rt         1781 non-null   float64\n",
      " 22  max_retire_sup           1468 non-null   float64\n",
      " 23  retire_exp               1736 non-null   float64\n",
      " 24  whn_fin_indy_num         141 non-null    float64\n",
      " 25  fin_indy_lvl             147 non-null    object \n",
      " 26  retire_age               1993 non-null   object \n",
      " 27  stp_whn_fin_indy         1995 non-null   object \n",
      " 28  industry                 1986 non-null   object \n",
      " 29  employer                 1984 non-null   object \n",
      " 30  role                     1964 non-null   object \n",
      " 31  ft_status                1905 non-null   object \n",
      " 32  pt_status                98 non-null     object \n",
      " 33  gig_status               178 non-null    object \n",
      " 34  ne_status                31 non-null     object \n",
      " 35  edu_status               1978 non-null   object \n",
      " 36  housing                  1993 non-null   object \n",
      " 37  home_value               1623 non-null   float64\n",
      " 38  brokerage_accts_tax      1873 non-null   float64\n",
      " 39  retirement_accts_tax     1940 non-null   float64\n",
      " 40  cash                     1932 non-null   float64\n",
      " 41  invst_accts              1529 non-null   float64\n",
      " 42  spec_crypto              1433 non-null   float64\n",
      " 43  invst_prop_bus_own       1278 non-null   float64\n",
      " 44  other_val                999 non-null    float64\n",
      " 45  student_loans            344 non-null    float64\n",
      " 46  mortgage                 844 non-null    float64\n",
      " 47  auto_loan                391 non-null    float64\n",
      " 48  credit_personal_loan     390 non-null    float64\n",
      " 49  medical_debt             94 non-null     float64\n",
      " 50  invst_prop_bus_own_debt  199 non-null    float64\n",
      " 51  other_debt               100 non-null    float64\n",
      " 52  2020_gross_inc           1942 non-null   float64\n",
      " 53  2020_housing_exp         1839 non-null   float64\n",
      " 54  2020_utilities_exp       1785 non-null   float64\n",
      " 55  2020_transp_exp          1733 non-null   float64\n",
      " 56  2020_necessities_exp     1753 non-null   float64\n",
      " 57  2020_lux_exp             1706 non-null   float64\n",
      " 58  2020_child_exp           366 non-null    float64\n",
      " 59  2020_debt_repay          312 non-null    float64\n",
      " 60  2020_invst_save          1474 non-null   float64\n",
      " 61  2020_charity             812 non-null    float64\n",
      " 62  2020_healthcare_exp      1101 non-null   float64\n",
      " 63  2020_taxes               1461 non-null   float64\n",
      " 64  2020_edu_exp             282 non-null    float64\n",
      " 65  2020_other_exp           181 non-null    float64\n",
      "dtypes: float64(36), int64(1), object(29)\n",
      "memory usage: 1.0+ MB\n"
     ]
    }
   ],
   "source": [
    "fin_df.info()"
   ]
  },
  {
   "cell_type": "code",
   "execution_count": 29,
   "metadata": {},
   "outputs": [
    {
     "data": {
      "text/plain": [
       "['rownames',\n",
       " 'fin_indy_num',\n",
       " 'fin_indy_pct',\n",
       " 'retire_invst_num',\n",
       " 'tgt_sf_wthdrw_rt',\n",
       " 'max_retire_sup',\n",
       " 'retire_exp',\n",
       " 'whn_fin_indy_num',\n",
       " 'home_value',\n",
       " 'brokerage_accts_tax',\n",
       " 'retirement_accts_tax',\n",
       " 'cash',\n",
       " 'invst_accts',\n",
       " 'spec_crypto',\n",
       " 'invst_prop_bus_own',\n",
       " 'other_val',\n",
       " 'student_loans',\n",
       " 'mortgage',\n",
       " 'auto_loan',\n",
       " 'credit_personal_loan',\n",
       " 'medical_debt',\n",
       " 'invst_prop_bus_own_debt',\n",
       " 'other_debt',\n",
       " '2020_gross_inc',\n",
       " '2020_housing_exp',\n",
       " '2020_utilities_exp',\n",
       " '2020_transp_exp',\n",
       " '2020_necessities_exp',\n",
       " '2020_lux_exp',\n",
       " '2020_child_exp',\n",
       " '2020_debt_repay',\n",
       " '2020_invst_save',\n",
       " '2020_charity',\n",
       " '2020_healthcare_exp',\n",
       " '2020_taxes',\n",
       " '2020_edu_exp',\n",
       " '2020_other_exp']"
      ]
     },
     "execution_count": 29,
     "metadata": {},
     "output_type": "execute_result"
    }
   ],
   "source": [
    "numeric_cols = [col for col in fin_df.columns if np.dtype(fin_df[col]) in [np.dtype('int64'),np.dtype('float64')]]\n",
    "numeric_cols"
   ]
  },
  {
   "cell_type": "code",
   "execution_count": 30,
   "metadata": {},
   "outputs": [
    {
     "data": {
      "image/png": "[encoded data removed]",
      "text/plain": [
       "<Figure size 480x480 with 1 Axes>"
      ]
     },
     "metadata": {},
     "output_type": "display_data"
    }
   ],
   "source": [
    "plt.matshow(fin_df[numeric_cols].corr().round(2))\n",
    "plt.show()"
   ]
  },
  {
   "cell_type": "code",
   "execution_count": null,
   "metadata": {},
   "outputs": [],
   "source": []
  }
 ],
 "metadata": {
  "kernelspec": {
   "display_name": "Python 3",
   "language": "python",
   "name": "python3"
  },
  "language_info": {
   "codemirror_mode": {
    "name": "ipython",
    "version": 3
   },
   "file_extension": ".py",
   "mimetype": "text/x-python",
   "name": "python",
   "nbconvert_exporter": "python",
   "pygments_lexer": "ipython3",
   "version": "3.12.3"
  }
 },
 "nbformat": 4,
 "nbformat_minor": 2
}
